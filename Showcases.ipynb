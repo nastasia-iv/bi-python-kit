{
 "cells": [
  {
   "cell_type": "markdown",
   "id": "e8630087-fa1f-42e8-8266-cd20c9dd620c",
   "metadata": {},
   "source": [
    "## Some examples of the `bi-python-kit` module working"
   ]
  },
  {
   "cell_type": "markdown",
   "id": "00e3512b-a44f-451f-8b72-49a6211ed86f",
   "metadata": {},
   "source": [
    "### Content\n",
    "\n",
    "[✨ Function examples](#✨-Function-examples)  \n",
    "- [OpenFasta](#OpenFasta)\n",
    "- [run_genscan](#run_genscan)\n",
    "- [DNASequence](#DNASequence)\n",
    "- [RNASequence](#RNASequence)\n",
    "- [AminoAcidSequence](#AminoAcidSequence)\n",
    "- [convert_multiline_fasta_to_oneline](#convert_multiline_fasta_to_oneline)\n",
    "  \n",
    "[🌲 Checking correct parallelization of threads in RandomForestClassifierCustom](#🌲-Checking-correct-parallelization-of-threads-in-RandomForestClassifierCustom)  \n",
    "- [Checking fit function](#Checking-fit-function)  \n",
    "- [Checking predict function](#Checking-predict-function)  \n",
    "- [Comparison of predictions](#Comparison-of-predictions)"
   ]
  },
  {
   "cell_type": "code",
   "execution_count": 1,
   "id": "66a83a0a-e71d-44df-b069-fde1cce247d6",
   "metadata": {},
   "outputs": [],
   "source": [
    "import time\n",
    "\n",
    "import numpy as np\n",
    "import pandas as pd\n",
    "\n",
    "from custom_random_forest import RandomForestClassifierCustom\n",
    "from sklearn.datasets import make_classification\n",
    "from bio_files_processor import (convert_multiline_fasta_to_oneline,\n",
    "                                 OpenFasta)\n",
    "from bi_python_kit import (DNASequence, RNASequence, AminoAcidSequence,\n",
    "                         run_genscan, GenscanOutput)"
   ]
  },
  {
   "cell_type": "markdown",
   "id": "e51c8c0c-5196-4fc8-8d63-c071e1fa2485",
   "metadata": {},
   "source": [
    "## ✨ Function examples"
   ]
  },
  {
   "cell_type": "markdown",
   "id": "dc094bef-aa50-4d50-a4ae-b26c3c23160c",
   "metadata": {},
   "source": [
    "### `OpenFasta`"
   ]
  },
  {
   "cell_type": "code",
   "execution_count": 23,
   "id": "561911bf-158c-482f-960f-18410a67fd18",
   "metadata": {},
   "outputs": [
    {
     "name": "stdout",
     "output_type": "stream",
     "text": [
      ">GTD323452 5S_rRNA NODE_272_length_223_cov_0.720238:18-129(+)\n",
      "ACGGCCATAGGACTTTGAAAGCACCGCATCCCGTCCGATCTGCGAAGTTAACCAAGATGCCGCCTGGTTAGTACCATGGTGGGGGACCACATGGGAATCCCTGGTGCTGTG\n",
      ">GTD678345 16S_rRNA NODE_80_length_720_cov_1.094737:313-719(+)\n",
      "TTGGCTTCTTAGAGGGACTTTTGATGTTTAATCAAAGGAAGTTTGAGGCAATAACAGGTCTGTGATGCCCTTAGATGTTCTGGGCCGCACGCGCGCTACACTGAGCCCTTGGGAGTGGTCCATTTGAGCCGGCAACGGCACGTTTGGACTGCAAACTTGGGCAAACTTGGTCATTTAGAGGAAGTAAAAGTCGTAACAAGGT\n",
      ">GTD174893 16S_rRNA NODE_1_length_2558431_cov_75.185164:2153860-2155398(+)\n",
      "TTGAAGAGTTTGATCATGGCTCAGATTGAACGCTGGCGGCAGGCCTAACACATGCAAGTCGAACGGTAACAGGAAACAGCTTGCTGTTTCGCTGACGAGTGGGAAGTAGGTAGCTTAACCTTCGGGAGGGCGCTTACCACTTTGTGATTCATGACTGGGGTGAAGTCGTAACAAGGTAACCGTAGGGGAACCTGCGGTTGGATCACCTCCTT\n",
      ">GTD906783 16S_rRNA NODE_1_length_2558431_cov_75.185164:793941-795479(-)\n",
      "TTGAAGAGTTTGATCATGGCTCAGATTGAACGCTGGCGGCAGGCCTAACACATGCAAGTCGAACGGTAACAGGAAACAGCTTGCTGTTTCGCTGACGAGTGGGAAGTAGGTAGCTTAACCTTCGGGAGGGCGCTTACCACTTTGTGATTCATGACTGGGGTGAAGTCGTAACAAGGTAACCGTAGGGGAACCTGCGGTTGGATCACCTCCTT\n",
      ">GTD129563 16S_rRNA NODE_4_length_428221_cov_75.638017:281055-282593(-)\n",
      "CGGACGGGTGAGTAATGTCTGGGAAACTGCCTGATGGAGGGGGATAACTACTGGAAACGGTAGCTAATACCGCATAACGTCGCAAGACCAAAGAGGGGGACCGAAGTAGGTAGCTTAACCTTCGGGAGGGCGCTTACCACTTTGTGATTCATGACTGGGGTGAAGTCGTAACAAGGTAACCGTAGGGGAACCTGCGGTTGGATCACCTCCTT\n"
     ]
    }
   ],
   "source": [
    "fasta_filename = 'data/example_open_fasta.fasta'\n",
    "\n",
    "with OpenFasta(fasta_filename) as fasta_file:\n",
    "    for record in fasta_file:\n",
    "        print(record)"
   ]
  },
  {
   "cell_type": "code",
   "execution_count": 24,
   "id": "04ac3a67-fc0a-41e9-a8ab-3d4471d95bad",
   "metadata": {},
   "outputs": [
    {
     "name": "stdout",
     "output_type": "stream",
     "text": [
      ">GTD323452 5S_rRNA NODE_272_length_223_cov_0.720238:18-129(+)\n",
      "ACGGCCATAGGACTTTGAAAGCACCGCATCCCGTCCGATCTGCGAAGTTAACCAAGATGCCGCCTGGTTAGTACCATGGTGGGGGACCACATGGGAATCCCTGGTGCTGTG\n"
     ]
    }
   ],
   "source": [
    "with OpenFasta(fasta_filename) as fasta_file:\n",
    "    single_record = fasta_file.read_record()\n",
    "    print(single_record)"
   ]
  },
  {
   "cell_type": "markdown",
   "id": "902a99b9-29ae-4389-9c32-e9997b4f5e88",
   "metadata": {},
   "source": [
    "### `run_genscan`"
   ]
  },
  {
   "cell_type": "code",
   "execution_count": 25,
   "id": "ff0257ec-77fb-418b-84f2-edd108d00698",
   "metadata": {},
   "outputs": [
    {
     "name": "stdout",
     "output_type": "stream",
     "text": [
      "Status of your request: 200\n"
     ]
    }
   ],
   "source": [
    "result = run_genscan(sequence_file=\"data/example_genscan.fa\")\n",
    "print(f'Status of your request: {result.status}')"
   ]
  },
  {
   "cell_type": "code",
   "execution_count": 26,
   "id": "e346bdfc-5f00-4d23-8956-3b0f6cfbbb2e",
   "metadata": {},
   "outputs": [
    {
     "name": "stdout",
     "output_type": "stream",
     "text": [
      "Predicted protein sequences in your data:\n",
      "\n",
      "MDVVDSLLVNGSNITPPCELGLENETLFCLDQPRPSKEWQPAVQILLYSLIFLLSVLGNTLVITVLIRNKRMRTVTNIFLLSLAVSDLMLCLFCMPFNLIPNLLKDFIFGSAVCKTTTYFMGTSVSVSTFNLVAISLERYGAICKPLQSRVWQTKSHALKVIAATWCLSFTIMTPYPIYSNLVPFTKNNNQTANMCRFLLPNDVMQQSWHTFLLLILFLIPGIVMMVAYGLISLELYQGIKFEASQKKSAKERKPSTTSSGKYEDSDGCYLQKTRPPRKLELRQLSTGSSSRANRIRSNSSAANLMAKKRVIRMLIVIVVLFFLCWMPIFSANAWRAYDTASAERRLSGTPISFILLLSYTSSCVNPIIYCFMNKRFRLGFMATFPCCPNPGPPGARGEVGEEEEGGTTGASLSRFSYSHMSASVPPHEMSPDPPPQKEGREEAEKKERKKRSGREGAELMEKEGSISSGNSSX\n"
     ]
    }
   ],
   "source": [
    "print('Predicted protein sequences in your data:\\n')\n",
    "for cds in result.cds_list:\n",
    "    print(cds)"
   ]
  },
  {
   "cell_type": "code",
   "execution_count": 27,
   "id": "5fba03ea-eb7c-4bf2-898e-9bb871f4c44b",
   "metadata": {},
   "outputs": [
    {
     "name": "stdout",
     "output_type": "stream",
     "text": [
      "Predicted exons in your data:\n",
      "\n",
      "    exons   boundaries\n",
      "Exon 1.01   (276, 387)\n",
      "Exon 1.02 (1059, 1310)\n",
      "Exon 1.03 (4645, 4906)\n",
      "Exon 1.04 (7260, 7387)\n",
      "Exon 1.05 (8373, 8901)\n",
      "Exon 1.06 (8903, 9040)\n"
     ]
    }
   ],
   "source": [
    "print('Predicted exons in your data:\\n')\n",
    "exons = pd.DataFrame(result.exon_dict.items(), columns=['exons', 'boundaries'])\n",
    "print(exons.to_string(index=False))"
   ]
  },
  {
   "cell_type": "code",
   "execution_count": 28,
   "id": "56ad5760-300a-4d66-b050-560ca4447bc9",
   "metadata": {},
   "outputs": [
    {
     "name": "stdout",
     "output_type": "stream",
     "text": [
      "Predicted introns in your data:\n",
      "\n",
      "    introns   boundaries\n",
      "Intron 1.01  (388, 1058)\n",
      "Intron 1.02 (1311, 4644)\n",
      "Intron 1.03 (4907, 7259)\n",
      "Intron 1.04 (7388, 8372)\n",
      "Intron 1.05 (8902, 8902)\n"
     ]
    }
   ],
   "source": [
    "print('Predicted introns in your data:\\n')\n",
    "introns = pd.DataFrame(result.intron_dict.items(), columns=['introns', 'boundaries'])\n",
    "print(introns.to_string(index=False))"
   ]
  },
  {
   "cell_type": "markdown",
   "id": "a7570858-8f2a-40e8-b848-b7f565d1c263",
   "metadata": {},
   "source": [
    "### `DNASequence`"
   ]
  },
  {
   "cell_type": "code",
   "execution_count": 29,
   "id": "a6792c4b-e9bb-43dd-a64a-304a9373e9c0",
   "metadata": {},
   "outputs": [
    {
     "name": "stdout",
     "output_type": "stream",
     "text": [
      "50.0\n"
     ]
    }
   ],
   "source": [
    "dna_sequence = DNASequence(\"ATGC\")\n",
    "dna_gc_content = dna_sequence.gc_content()\n",
    "print(dna_gc_content)"
   ]
  },
  {
   "cell_type": "code",
   "execution_count": 30,
   "id": "4528d7d3-b68d-412d-9dce-b768c7028d2a",
   "metadata": {},
   "outputs": [
    {
     "name": "stdout",
     "output_type": "stream",
     "text": [
      "AUGC\n"
     ]
    }
   ],
   "source": [
    "dna_sequence = DNASequence(\"ATGC\")\n",
    "dna_transcribe = dna_sequence.transcribe()\n",
    "print(dna_transcribe)"
   ]
  },
  {
   "cell_type": "markdown",
   "id": "b5357cb6-8bc7-4093-8ba0-ea3c22ce56a1",
   "metadata": {},
   "source": [
    "### `RNASequence`"
   ]
  },
  {
   "cell_type": "code",
   "execution_count": 31,
   "id": "2e85b344-5976-4fd4-8fad-1ed7e9711f01",
   "metadata": {},
   "outputs": [
    {
     "name": "stdout",
     "output_type": "stream",
     "text": [
      "UACG\n"
     ]
    }
   ],
   "source": [
    "rna_sequence = RNASequence(\"AUGC\")\n",
    "rna_complement = rna_sequence.complement()\n",
    "print(rna_complement)"
   ]
  },
  {
   "cell_type": "code",
   "execution_count": 32,
   "id": "cb2f5104-6d9e-4133-81dd-c136a613dda3",
   "metadata": {},
   "outputs": [
    {
     "ename": "SequenceError",
     "evalue": "Operation cannot be performed: incorrect sequence.",
     "output_type": "error",
     "traceback": [
      "\u001b[0;31m---------------------------------------------------------------------------\u001b[0m",
      "\u001b[0;31mSequenceError\u001b[0m                             Traceback (most recent call last)",
      "Cell \u001b[0;32mIn[32], line 2\u001b[0m\n\u001b[1;32m      1\u001b[0m rna_sequence \u001b[38;5;241m=\u001b[39m RNASequence(\u001b[38;5;124m\"\u001b[39m\u001b[38;5;124mATGC\u001b[39m\u001b[38;5;124m\"\u001b[39m)  \u001b[38;5;66;03m# incorrect sequence for RNA\u001b[39;00m\n\u001b[0;32m----> 2\u001b[0m rna_complement \u001b[38;5;241m=\u001b[39m \u001b[43mrna_sequence\u001b[49m\u001b[38;5;241;43m.\u001b[39;49m\u001b[43mcomplement\u001b[49m\u001b[43m(\u001b[49m\u001b[43m)\u001b[49m\n\u001b[1;32m      3\u001b[0m \u001b[38;5;28mprint\u001b[39m(rna_complement)\n",
      "File \u001b[0;32m~/bioinf/python_2.0/hw18/main_script.py:214\u001b[0m, in \u001b[0;36mNucleicAcidSequence.complement\u001b[0;34m(self)\u001b[0m\n\u001b[1;32m    210\u001b[0m         complement_sequence \u001b[38;5;241m+\u001b[39m\u001b[38;5;241m=\u001b[39m complement_pairs\u001b[38;5;241m.\u001b[39mget(base, base)\n\u001b[1;32m    212\u001b[0m     \u001b[38;5;28;01mreturn\u001b[39;00m \u001b[38;5;28mtype\u001b[39m(\u001b[38;5;28mself\u001b[39m)(complement_sequence)\n\u001b[0;32m--> 214\u001b[0m \u001b[38;5;28;01mraise\u001b[39;00m SequenceError()\n",
      "\u001b[0;31mSequenceError\u001b[0m: Operation cannot be performed: incorrect sequence."
     ]
    }
   ],
   "source": [
    "rna_sequence = RNASequence(\"ATGC\")  # incorrect sequence for RNA\n",
    "rna_complement = rna_sequence.complement()\n",
    "print(rna_complement)"
   ]
  },
  {
   "cell_type": "markdown",
   "id": "2df3de8d-cd7d-4433-8747-229600ef6397",
   "metadata": {},
   "source": [
    "### `AminoAcidSequence`"
   ]
  },
  {
   "cell_type": "code",
   "execution_count": 33,
   "id": "c40b7c47-8383-4a9b-9439-b9fa794168d2",
   "metadata": {},
   "outputs": [
    {
     "name": "stdout",
     "output_type": "stream",
     "text": [
      "Molecular Weight: 981.047 Da\n"
     ]
    }
   ],
   "source": [
    "protein_sequence = AminoAcidSequence(\"ARNDCHGQV\")\n",
    "molecular_weight = protein_sequence.calculate_molecular_weight()\n",
    "\n",
    "print(f\"Molecular Weight: {molecular_weight} Da\")"
   ]
  },
  {
   "cell_type": "markdown",
   "id": "51be38c2-5d32-443f-a5f5-8aa908a12ad6",
   "metadata": {},
   "source": [
    "### `convert_multiline_fasta_to_oneline`"
   ]
  },
  {
   "cell_type": "code",
   "execution_count": 34,
   "id": "ec0b32ce-e41b-48c2-8128-cd7f6a100781",
   "metadata": {},
   "outputs": [
    {
     "name": "stdout",
     "output_type": "stream",
     "text": [
      ">5S_rRNA::NODE_272_length_223_cov_0.720238:18-129(+)\n",
      "ACGGCCATAGGACTTTGAAAGCACCGCATCCCGTCCGATCTGCGAAGTTAACCAAGATGCCGCC\n",
      "GGTGCTGTG\n",
      ">16S_rRNA::NODE_80_length_720_cov_1.094737:313-719(+)\n",
      "TTGGCTTCTTAGAGGGACTTTTGATGTTTAATCAAAGGAAGTTTGAGGCAATAACAGGTCTGTG\n",
      "GACAAAGTCAACGAGTTTTATTATTATTCCTTTATTGAAAAATATGGGT\n"
     ]
    }
   ],
   "source": [
    "with open(\"data/example_multiline_fasta.fasta\", 'r') as file:\n",
    "    file_contents = file.read()\n",
    "    print(file_contents)"
   ]
  },
  {
   "cell_type": "code",
   "execution_count": 35,
   "id": "9f815928-d0a2-4503-abc3-c1859b7eff6e",
   "metadata": {},
   "outputs": [],
   "source": [
    "convert_multiline_fasta_to_oneline(\"data/example_multiline_fasta.fasta\", output_fasta=\"data/example_oneline_fasta.fasta\")"
   ]
  },
  {
   "cell_type": "code",
   "execution_count": 36,
   "id": "04791701-3f29-4ce4-b070-9fad8bda57d3",
   "metadata": {},
   "outputs": [
    {
     "name": "stdout",
     "output_type": "stream",
     "text": [
      ">5S_rRNA::NODE_272_length_223_cov_0.720238:18-129(+)\n",
      "ACGGCCATAGGACTTTGAAAGCACCGCATCCCGTCCGATCTGCGAAGTTAACCAAGATGCCGCCGGTGCTGTG\n",
      ">16S_rRNA::NODE_80_length_720_cov_1.094737:313-719(+)\n",
      "TTGGCTTCTTAGAGGGACTTTTGATGTTTAATCAAAGGAAGTTTGAGGCAATAACAGGTCTGTGGACAAAGTCAACGAGTTTTATTATTATTCCTTTATTGAAAAATATGGGT\n"
     ]
    }
   ],
   "source": [
    "with open(\"data/example_oneline_fasta.fasta\", 'r') as file:\n",
    "    file_contents = file.read()\n",
    "    print(file_contents)"
   ]
  },
  {
   "cell_type": "markdown",
   "id": "fcd7c5af-4bd4-43b8-8c41-4dd83364df2c",
   "metadata": {},
   "source": [
    "  "
   ]
  },
  {
   "cell_type": "markdown",
   "id": "f93547cd-b964-4b6b-923c-6f8086e987a2",
   "metadata": {},
   "source": [
    "## 🌲 Checking correct parallelization of threads in `RandomForestClassifierCustom`"
   ]
  },
  {
   "cell_type": "code",
   "execution_count": 2,
   "id": "bb246970-d886-47dd-b504-cf0f29aa851c",
   "metadata": {},
   "outputs": [],
   "source": [
    "X, y = make_classification(n_samples=100000)\n",
    "random_forest = RandomForestClassifierCustom(max_depth=30, n_estimators=10, \n",
    "                                             max_features=2, random_state=42)"
   ]
  },
  {
   "cell_type": "markdown",
   "id": "4534e734-6fe3-42c7-b4e7-4d77c40fabf6",
   "metadata": {},
   "source": [
    "### Checking `fit` function"
   ]
  },
  {
   "cell_type": "code",
   "execution_count": 7,
   "id": "05a4e9a4-7af0-4ef7-baeb-a0327cb0b470",
   "metadata": {},
   "outputs": [
    {
     "name": "stdout",
     "output_type": "stream",
     "text": [
      "CPU times: user 6.51 s, sys: 4.58 ms, total: 6.51 s\n",
      "Wall time: 6.51 s\n"
     ]
    }
   ],
   "source": [
    "%%time\n",
    "\n",
    "# 1 thread\n",
    "fit_one_thread = random_forest.fit(X, y, n_jobs=1)"
   ]
  },
  {
   "cell_type": "code",
   "execution_count": 8,
   "id": "cdcade40-371e-46d7-915c-e66ea22a8eb5",
   "metadata": {},
   "outputs": [
    {
     "name": "stdout",
     "output_type": "stream",
     "text": [
      "CPU times: user 7 s, sys: 344 µs, total: 7 s\n",
      "Wall time: 3.52 s\n"
     ]
    }
   ],
   "source": [
    "%%time\n",
    "\n",
    "# 2 threads\n",
    "fit_two_thread = random_forest.fit(X, y, n_jobs=2)"
   ]
  },
  {
   "cell_type": "markdown",
   "id": "07628f5e-aec3-486a-8875-29c1fd148616",
   "metadata": {},
   "source": [
    "### Checking `predict` function"
   ]
  },
  {
   "cell_type": "code",
   "execution_count": 9,
   "id": "c7143d99-1882-4546-8eae-c1dabc6167b9",
   "metadata": {},
   "outputs": [
    {
     "name": "stdout",
     "output_type": "stream",
     "text": [
      "CPU times: user 136 ms, sys: 21 µs, total: 136 ms\n",
      "Wall time: 134 ms\n"
     ]
    }
   ],
   "source": [
    "%%time\n",
    "\n",
    "# 1 thread\n",
    "predictions_one_thread = random_forest.predict(X, n_jobs=1)"
   ]
  },
  {
   "cell_type": "code",
   "execution_count": 10,
   "id": "20f4496f-af07-4082-886e-bcb8cd0e6cc0",
   "metadata": {},
   "outputs": [
    {
     "name": "stdout",
     "output_type": "stream",
     "text": [
      "CPU times: user 146 ms, sys: 397 µs, total: 146 ms\n",
      "Wall time: 78 ms\n"
     ]
    }
   ],
   "source": [
    "%%time\n",
    "\n",
    "# 2 threads\n",
    "predictions_two_thread = random_forest.predict(X, n_jobs=2)"
   ]
  },
  {
   "cell_type": "markdown",
   "id": "64be1132-7727-4642-8693-d0ddf0f6267f",
   "metadata": {},
   "source": [
    "### Comparison of predictions"
   ]
  },
  {
   "cell_type": "code",
   "execution_count": 11,
   "id": "cbddd256-f351-413e-b958-7fbf3883c938",
   "metadata": {},
   "outputs": [
    {
     "name": "stdout",
     "output_type": "stream",
     "text": [
      "The resulting predictions coincide: True\n"
     ]
    }
   ],
   "source": [
    "predictions_match = np.array_equal(predictions_one_thread, predictions_two_thread)\n",
    "print(\"The resulting predictions coincide:\", predictions_match)"
   ]
  }
 ],
 "metadata": {
  "kernelspec": {
   "display_name": "python_bi_kernel",
   "language": "python",
   "name": "python_bi_kernel"
  },
  "language_info": {
   "codemirror_mode": {
    "name": "ipython",
    "version": 3
   },
   "file_extension": ".py",
   "mimetype": "text/x-python",
   "name": "python",
   "nbconvert_exporter": "python",
   "pygments_lexer": "ipython3",
   "version": "3.12.0"
  }
 },
 "nbformat": 4,
 "nbformat_minor": 5
}
